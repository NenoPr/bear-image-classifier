{
 "cells": [
  {
   "cell_type": "code",
   "execution_count": 2,
   "id": "c447b4b0",
   "metadata": {},
   "outputs": [],
   "source": [
    "#hide\n",
    "import fastbook\n",
    "fastbook.setup_book()\n",
    "from fastbook import *\n",
    "from fastai.vision.widgets import *\n",
    "\n",
    "import pathlib\n",
    "temp = pathlib.PosixPath\n",
    "pathlib.PosixPath = pathlib.WindowsPath"
   ]
  },
  {
   "cell_type": "code",
   "execution_count": 3,
   "id": "1712fdc1",
   "metadata": {},
   "outputs": [
    {
     "name": "stdout",
     "output_type": "stream",
     "text": [
      "Requirement already satisfied: voila in c:\\users\\nenad\\anaconda3\\lib\\site-packages (0.3.6)\n",
      "Requirement already satisfied: jupyter-client<8,>=6.1.3 in c:\\users\\nenad\\anaconda3\\lib\\site-packages (from voila) (6.1.12)\n",
      "Requirement already satisfied: jupyterlab-server<3,>=2.3.0 in c:\\users\\nenad\\anaconda3\\lib\\site-packages (from voila) (2.10.3)\n",
      "Requirement already satisfied: nbclient<0.6,>=0.4.0 in c:\\users\\nenad\\anaconda3\\lib\\site-packages (from voila) (0.5.13)\n",
      "Requirement already satisfied: nbconvert<7,>=6.4.5 in c:\\users\\nenad\\anaconda3\\lib\\site-packages (from voila) (6.5.3)\n",
      "Requirement already satisfied: jupyter-server<2.0.0,>=1.18 in c:\\users\\nenad\\anaconda3\\lib\\site-packages (from voila) (1.18.1)\n",
      "Requirement already satisfied: jupyter-core>=4.11.0 in c:\\users\\nenad\\anaconda3\\lib\\site-packages (from voila) (4.11.1)\n",
      "Requirement already satisfied: websockets>=9.0 in c:\\users\\nenad\\anaconda3\\lib\\site-packages (from voila) (10.3)\n",
      "Requirement already satisfied: traitlets<6,>=5.0.3 in c:\\users\\nenad\\anaconda3\\lib\\site-packages (from voila) (5.1.1)\n",
      "Requirement already satisfied: tornado>=4.1 in c:\\users\\nenad\\anaconda3\\lib\\site-packages (from jupyter-client<8,>=6.1.3->voila) (6.1)\n",
      "Requirement already satisfied: pyzmq>=13 in c:\\users\\nenad\\anaconda3\\lib\\site-packages (from jupyter-client<8,>=6.1.3->voila) (22.3.0)\n",
      "Requirement already satisfied: python-dateutil>=2.1 in c:\\users\\nenad\\anaconda3\\lib\\site-packages (from jupyter-client<8,>=6.1.3->voila) (2.8.2)\n",
      "Requirement already satisfied: pywin32>=1.0 in c:\\users\\nenad\\anaconda3\\lib\\site-packages (from jupyter-core>=4.11.0->voila) (302)\n",
      "Requirement already satisfied: anyio<4,>=3.1.0 in c:\\users\\nenad\\anaconda3\\lib\\site-packages (from jupyter-server<2.0.0,>=1.18->voila) (3.5.0)\n",
      "Requirement already satisfied: argon2-cffi in c:\\users\\nenad\\anaconda3\\lib\\site-packages (from jupyter-server<2.0.0,>=1.18->voila) (21.3.0)\n",
      "Requirement already satisfied: terminado>=0.8.3 in c:\\users\\nenad\\anaconda3\\lib\\site-packages (from jupyter-server<2.0.0,>=1.18->voila) (0.13.1)\n",
      "Requirement already satisfied: packaging in c:\\users\\nenad\\anaconda3\\lib\\site-packages (from jupyter-server<2.0.0,>=1.18->voila) (21.3)\n",
      "Requirement already satisfied: pywinpty in c:\\users\\nenad\\anaconda3\\lib\\site-packages (from jupyter-server<2.0.0,>=1.18->voila) (2.0.2)\n",
      "Requirement already satisfied: Send2Trash in c:\\users\\nenad\\anaconda3\\lib\\site-packages (from jupyter-server<2.0.0,>=1.18->voila) (1.8.0)\n",
      "Requirement already satisfied: prometheus-client in c:\\users\\nenad\\anaconda3\\lib\\site-packages (from jupyter-server<2.0.0,>=1.18->voila) (0.13.1)\n",
      "Requirement already satisfied: jinja2 in c:\\users\\nenad\\anaconda3\\lib\\site-packages (from jupyter-server<2.0.0,>=1.18->voila) (3.1.2)\n",
      "Requirement already satisfied: nbformat>=5.2.0 in c:\\users\\nenad\\anaconda3\\lib\\site-packages (from jupyter-server<2.0.0,>=1.18->voila) (5.3.0)\n",
      "Requirement already satisfied: websocket-client in c:\\users\\nenad\\anaconda3\\lib\\site-packages (from jupyter-server<2.0.0,>=1.18->voila) (0.58.0)\n",
      "Requirement already satisfied: idna>=2.8 in c:\\users\\nenad\\anaconda3\\lib\\site-packages (from anyio<4,>=3.1.0->jupyter-server<2.0.0,>=1.18->voila) (3.3)\n",
      "Requirement already satisfied: sniffio>=1.1 in c:\\users\\nenad\\anaconda3\\lib\\site-packages (from anyio<4,>=3.1.0->jupyter-server<2.0.0,>=1.18->voila) (1.2.0)\n",
      "Requirement already satisfied: babel in c:\\users\\nenad\\anaconda3\\lib\\site-packages (from jupyterlab-server<3,>=2.3.0->voila) (2.9.1)\n",
      "Requirement already satisfied: requests in c:\\users\\nenad\\anaconda3\\lib\\site-packages (from jupyterlab-server<3,>=2.3.0->voila) (2.27.1)\n",
      "Requirement already satisfied: entrypoints>=0.2.2 in c:\\users\\nenad\\anaconda3\\lib\\site-packages (from jupyterlab-server<3,>=2.3.0->voila) (0.4)\n",
      "Requirement already satisfied: json5 in c:\\users\\nenad\\anaconda3\\lib\\site-packages (from jupyterlab-server<3,>=2.3.0->voila) (0.9.6)\n",
      "Requirement already satisfied: jsonschema>=3.0.1 in c:\\users\\nenad\\anaconda3\\lib\\site-packages (from jupyterlab-server<3,>=2.3.0->voila) (4.4.0)\n",
      "Requirement already satisfied: MarkupSafe>=2.0 in c:\\users\\nenad\\anaconda3\\lib\\site-packages (from jinja2->jupyter-server<2.0.0,>=1.18->voila) (2.0.1)\n",
      "Requirement already satisfied: pyrsistent!=0.17.0,!=0.17.1,!=0.17.2,>=0.14.0 in c:\\users\\nenad\\anaconda3\\lib\\site-packages (from jsonschema>=3.0.1->jupyterlab-server<3,>=2.3.0->voila) (0.18.0)\n",
      "Requirement already satisfied: attrs>=17.4.0 in c:\\users\\nenad\\anaconda3\\lib\\site-packages (from jsonschema>=3.0.1->jupyterlab-server<3,>=2.3.0->voila) (21.4.0)\n",
      "Requirement already satisfied: nest-asyncio in c:\\users\\nenad\\anaconda3\\lib\\site-packages (from nbclient<0.6,>=0.4.0->voila) (1.5.5)\n",
      "Requirement already satisfied: defusedxml in c:\\users\\nenad\\anaconda3\\lib\\site-packages (from nbconvert<7,>=6.4.5->voila) (0.7.1)\n",
      "Requirement already satisfied: mistune<2,>=0.8.1 in c:\\users\\nenad\\anaconda3\\lib\\site-packages (from nbconvert<7,>=6.4.5->voila) (0.8.4)\n",
      "Requirement already satisfied: pygments>=2.4.1 in c:\\users\\nenad\\anaconda3\\lib\\site-packages (from nbconvert<7,>=6.4.5->voila) (2.11.2)\n",
      "Requirement already satisfied: tinycss2 in c:\\users\\nenad\\anaconda3\\lib\\site-packages (from nbconvert<7,>=6.4.5->voila) (1.1.1)\n",
      "Requirement already satisfied: pandocfilters>=1.4.1 in c:\\users\\nenad\\anaconda3\\lib\\site-packages (from nbconvert<7,>=6.4.5->voila) (1.5.0)\n",
      "Requirement already satisfied: bleach in c:\\users\\nenad\\anaconda3\\lib\\site-packages (from nbconvert<7,>=6.4.5->voila) (4.1.0)\n",
      "Requirement already satisfied: jupyterlab-pygments in c:\\users\\nenad\\anaconda3\\lib\\site-packages (from nbconvert<7,>=6.4.5->voila) (0.1.2)\n",
      "Requirement already satisfied: lxml in c:\\users\\nenad\\anaconda3\\lib\\site-packages (from nbconvert<7,>=6.4.5->voila) (4.8.0)\n",
      "Requirement already satisfied: beautifulsoup4 in c:\\users\\nenad\\anaconda3\\lib\\site-packages (from nbconvert<7,>=6.4.5->voila) (4.11.1)\n",
      "Requirement already satisfied: fastjsonschema in c:\\users\\nenad\\anaconda3\\lib\\site-packages (from nbformat>=5.2.0->jupyter-server<2.0.0,>=1.18->voila) (2.15.1)\n",
      "Requirement already satisfied: six>=1.5 in c:\\users\\nenad\\anaconda3\\lib\\site-packages (from python-dateutil>=2.1->jupyter-client<8,>=6.1.3->voila) (1.16.0)\n",
      "Requirement already satisfied: argon2-cffi-bindings in c:\\users\\nenad\\anaconda3\\lib\\site-packages (from argon2-cffi->jupyter-server<2.0.0,>=1.18->voila) (21.2.0)\n",
      "Requirement already satisfied: cffi>=1.0.1 in c:\\users\\nenad\\anaconda3\\lib\\site-packages (from argon2-cffi-bindings->argon2-cffi->jupyter-server<2.0.0,>=1.18->voila) (1.15.0)\n",
      "Requirement already satisfied: pycparser in c:\\users\\nenad\\anaconda3\\lib\\site-packages (from cffi>=1.0.1->argon2-cffi-bindings->argon2-cffi->jupyter-server<2.0.0,>=1.18->voila) (2.21)\n",
      "Requirement already satisfied: pytz>=2015.7 in c:\\users\\nenad\\anaconda3\\lib\\site-packages (from babel->jupyterlab-server<3,>=2.3.0->voila) (2021.3)\n",
      "Requirement already satisfied: soupsieve>1.2 in c:\\users\\nenad\\anaconda3\\lib\\site-packages (from beautifulsoup4->nbconvert<7,>=6.4.5->voila) (2.3.1)\n",
      "Requirement already satisfied: webencodings in c:\\users\\nenad\\anaconda3\\lib\\site-packages (from bleach->nbconvert<7,>=6.4.5->voila) (0.5.1)\n",
      "Requirement already satisfied: pyparsing!=3.0.5,>=2.0.2 in c:\\users\\nenad\\anaconda3\\lib\\site-packages (from packaging->jupyter-server<2.0.0,>=1.18->voila) (3.0.4)\n",
      "Requirement already satisfied: certifi>=2017.4.17 in c:\\users\\nenad\\anaconda3\\lib\\site-packages (from requests->jupyterlab-server<3,>=2.3.0->voila) (2021.10.8)\n",
      "Requirement already satisfied: urllib3<1.27,>=1.21.1 in c:\\users\\nenad\\anaconda3\\lib\\site-packages (from requests->jupyterlab-server<3,>=2.3.0->voila) (1.26.9)\n",
      "Requirement already satisfied: charset-normalizer~=2.0.0 in c:\\users\\nenad\\anaconda3\\lib\\site-packages (from requests->jupyterlab-server<3,>=2.3.0->voila) (2.0.4)\n"
     ]
    },
    {
     "name": "stderr",
     "output_type": "stream",
     "text": [
      "WARNING: Ignoring invalid distribution -illow (c:\\users\\nenad\\anaconda3\\lib\\site-packages)\n",
      "WARNING: Ignoring invalid distribution -illow (c:\\users\\nenad\\anaconda3\\lib\\site-packages)\n",
      "WARNING: Ignoring invalid distribution -illow (c:\\users\\nenad\\anaconda3\\lib\\site-packages)\n",
      "WARNING: Ignoring invalid distribution -illow (c:\\users\\nenad\\anaconda3\\lib\\site-packages)\n",
      "WARNING: Ignoring invalid distribution -illow (c:\\users\\nenad\\anaconda3\\lib\\site-packages)\n",
      "WARNING: Ignoring invalid distribution -illow (c:\\users\\nenad\\anaconda3\\lib\\site-packages)\n",
      "Enabling: voila\n",
      "- Writing config: C:\\Users\\Nenad\\anaconda3\\etc\\jupyter\n",
      "    - Validating...\n",
      "      voila 0.3.6 ok\n"
     ]
    }
   ],
   "source": [
    "!pip install voila\n",
    "!jupyter serverextension enable --sys-prefix voila"
   ]
  },
  {
   "cell_type": "code",
   "execution_count": 4,
   "id": "936c55eb",
   "metadata": {},
   "outputs": [],
   "source": [
    "from duckduckgo_search import ddg_images\n",
    "from fastcore.all import *\n",
    "\n",
    "def search_images(term, max_images=30):\n",
    "    print(f\"Searching for '{term}'\")\n",
    "    return L(ddg_images(term, max_results=max_images)).itemgot('image')"
   ]
  },
  {
   "cell_type": "code",
   "execution_count": 5,
   "id": "ba97b62e",
   "metadata": {},
   "outputs": [],
   "source": [
    "import numpy as np # linear algebra\n",
    "import pandas as pd # data processing, CSV file I/O (e.g. pd.read_csv)"
   ]
  },
  {
   "cell_type": "code",
   "execution_count": 6,
   "id": "a4ecce81",
   "metadata": {},
   "outputs": [
    {
     "data": {
      "text/plain": [
       "(#1) [Path('export.pkl')]"
      ]
     },
     "execution_count": 6,
     "metadata": {},
     "output_type": "execute_result"
    }
   ],
   "source": [
    "path = Path()\n",
    "path.ls(file_exts='.pkl')"
   ]
  },
  {
   "cell_type": "code",
   "execution_count": 7,
   "id": "0d232337",
   "metadata": {},
   "outputs": [],
   "source": [
    "# Load the model/architrcture/paramaters\n",
    "learn_inf = load_learner(path/'export.pkl')"
   ]
  },
  {
   "cell_type": "code",
   "execution_count": 8,
   "id": "a37f9881",
   "metadata": {},
   "outputs": [
    {
     "data": {
      "text/plain": [
       "['black', 'grizzly', 'teddy']"
      ]
     },
     "execution_count": 8,
     "metadata": {},
     "output_type": "execute_result"
    }
   ],
   "source": [
    "learn_inf.dls.vocab"
   ]
  },
  {
   "cell_type": "markdown",
   "id": "1a4a5788",
   "metadata": {},
   "source": [
    "## App Code"
   ]
  },
  {
   "cell_type": "code",
   "execution_count": 11,
   "id": "ed1164ae",
   "metadata": {},
   "outputs": [
    {
     "data": {
      "application/vnd.jupyter.widget-view+json": {
       "model_id": "a968b7c729904873b2f5d064217c7771",
       "version_major": 2,
       "version_minor": 0
      },
      "text/plain": [
       "FileUpload(value={}, description='Upload')"
      ]
     },
     "metadata": {},
     "output_type": "display_data"
    }
   ],
   "source": [
    "# Button for uploading files\n",
    "btn_upload = widgets.FileUpload()\n",
    "btn_upload"
   ]
  },
  {
   "cell_type": "code",
   "execution_count": 13,
   "id": "f0af6cc7",
   "metadata": {},
   "outputs": [],
   "source": [
    "#place holder for image file so that cells below work\n",
    "img = PILImage.create(btn_upload.data[-1])"
   ]
  },
  {
   "cell_type": "code",
   "execution_count": 14,
   "id": "5bcdec61",
   "metadata": {},
   "outputs": [
    {
     "data": {
      "application/vnd.jupyter.widget-view+json": {
       "model_id": "974eb1f116874894914d6c20312bec5a",
       "version_major": 2,
       "version_minor": 0
      },
      "text/plain": [
       "Output()"
      ]
     },
     "metadata": {},
     "output_type": "display_data"
    }
   ],
   "source": [
    "# Output of the uploaded image\n",
    "# Resizes the image to 128x128\n",
    "out_pl = widgets.Output()\n",
    "out_pl.clear_output()\n",
    "with out_pl: display(img.to_thumb(128,128))\n",
    "out_pl"
   ]
  },
  {
   "cell_type": "code",
   "execution_count": 15,
   "id": "34f0610c",
   "metadata": {},
   "outputs": [
    {
     "data": {
      "text/html": [
       "\n",
       "<style>\n",
       "    /* Turns off some styling */\n",
       "    progress {\n",
       "        /* gets rid of default border in Firefox and Opera. */\n",
       "        border: none;\n",
       "        /* Needs to be in here for Safari polyfill so background images work as expected. */\n",
       "        background-size: auto;\n",
       "    }\n",
       "    progress:not([value]), progress:not([value])::-webkit-progress-bar {\n",
       "        background: repeating-linear-gradient(45deg, #7e7e7e, #7e7e7e 10px, #5c5c5c 10px, #5c5c5c 20px);\n",
       "    }\n",
       "    .progress-bar-interrupted, .progress-bar-interrupted::-webkit-progress-bar {\n",
       "        background: #F44336;\n",
       "    }\n",
       "</style>\n"
      ],
      "text/plain": [
       "<IPython.core.display.HTML object>"
      ]
     },
     "metadata": {},
     "output_type": "display_data"
    },
    {
     "data": {
      "text/html": [],
      "text/plain": [
       "<IPython.core.display.HTML object>"
      ]
     },
     "metadata": {},
     "output_type": "display_data"
    }
   ],
   "source": [
    "# save predictions in three variables - prediction, prediction index and probability\n",
    "pred,pred_idx,probs = learn_inf.predict(img)"
   ]
  },
  {
   "cell_type": "code",
   "execution_count": 16,
   "id": "86fe8432",
   "metadata": {},
   "outputs": [
    {
     "data": {
      "application/vnd.jupyter.widget-view+json": {
       "model_id": "7efac831a88f40a6a5baee3cebd727e8",
       "version_major": 2,
       "version_minor": 0
      },
      "text/plain": [
       "Label(value='Prediction: black; Probability: 0.9996')"
      ]
     },
     "metadata": {},
     "output_type": "display_data"
    }
   ],
   "source": [
    "# Label Function that will disply our prediction data to the user \n",
    "lbl_pred = widgets.Label()\n",
    "lbl_pred.value = f'Prediction: {pred}; Probability: {probs[pred_idx]:.04f}'\n",
    "lbl_pred"
   ]
  },
  {
   "cell_type": "code",
   "execution_count": 17,
   "id": "edc0361c",
   "metadata": {},
   "outputs": [
    {
     "data": {
      "application/vnd.jupyter.widget-view+json": {
       "model_id": "39afe32366844c0383e2d5a6bcda55f2",
       "version_major": 2,
       "version_minor": 0
      },
      "text/plain": [
       "Button(description='Classify', style=ButtonStyle())"
      ]
     },
     "metadata": {},
     "output_type": "display_data"
    }
   ],
   "source": [
    "# A button that will run the classifier model\n",
    "btn_run = widgets.Button(description='Classify')\n",
    "btn_run"
   ]
  },
  {
   "cell_type": "code",
   "execution_count": 18,
   "id": "4946bc5b",
   "metadata": {},
   "outputs": [],
   "source": [
    "# Logic function that will run the image classifier on the classify button click\n",
    "def on_click_classify(change):\n",
    "    img = PILImage.create(btn_upload.data[-1])\n",
    "    out_pl.clear_output()\n",
    "    with out_pl: display(img.to_thumb(128,128))\n",
    "    pred,pred_idx,probs = learn_inf.predict(img)\n",
    "    lbl_pred.value = f'Prediction: {pred}; Probability: {probs[pred_idx]:.04f}'\n",
    "\n",
    "btn_run.on_click(on_click_classify)"
   ]
  },
  {
   "cell_type": "code",
   "execution_count": 19,
   "id": "4df20bba",
   "metadata": {},
   "outputs": [],
   "source": [
    "#Putting back btn_upload to a widget for next cell\n",
    "btn_upload = widgets.FileUpload()"
   ]
  },
  {
   "cell_type": "code",
   "execution_count": 20,
   "id": "2cbb4680",
   "metadata": {},
   "outputs": [
    {
     "data": {
      "application/vnd.jupyter.widget-view+json": {
       "model_id": "1e3eabe6236b4cb0bf651341bcbaba90",
       "version_major": 2,
       "version_minor": 0
      },
      "text/plain": [
       "VBox(children=(Label(value='Select your bear!'), FileUpload(value={}, description='Upload'), Button(descriptio…"
      ]
     },
     "metadata": {},
     "output_type": "display_data"
    }
   ],
   "source": [
    "VBox([widgets.Label('Select your bear!'), \n",
    "      btn_upload, btn_run, out_pl, lbl_pred])"
   ]
  },
  {
   "cell_type": "code",
   "execution_count": null,
   "id": "266067c3",
   "metadata": {},
   "outputs": [],
   "source": []
  }
 ],
 "metadata": {
  "kernelspec": {
   "display_name": "Python 3 (ipykernel)",
   "language": "python",
   "name": "python3"
  },
  "language_info": {
   "codemirror_mode": {
    "name": "ipython",
    "version": 3
   },
   "file_extension": ".py",
   "mimetype": "text/x-python",
   "name": "python",
   "nbconvert_exporter": "python",
   "pygments_lexer": "ipython3",
   "version": "3.9.12"
  }
 },
 "nbformat": 4,
 "nbformat_minor": 5
}
